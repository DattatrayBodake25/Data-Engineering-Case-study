{
 "cells": [
  {
   "cell_type": "code",
   "execution_count": 1,
   "id": "d69ada1c",
   "metadata": {
    "ExecuteTime": {
     "end_time": "2024-04-08T08:35:06.304900Z",
     "start_time": "2024-04-08T08:35:06.284647Z"
    }
   },
   "outputs": [],
   "source": [
    "import json\n",
    "import random\n",
    "from datetime import datetime\n",
    "\n",
    "# Generate sample ad impressions data\n",
    "def generate_ad_impressions_data(num_records):\n",
    "    data = []\n",
    "    for _ in range(num_records):\n",
    "        ad_id = random.randint(1, 100)\n",
    "        user_id = random.randint(1000, 2000)\n",
    "        timestamp = datetime.now().strftime('%Y-%m-%d %H:%M:%S')\n",
    "        website = random.choice(['example.com', 'testsite.com', 'samplepage.com'])\n",
    "        impression_data = {\n",
    "            'ad_id': ad_id,\n",
    "            'user_id': user_id,\n",
    "            'timestamp': timestamp,\n",
    "            'website': website\n",
    "        }\n",
    "        data.append(impression_data)\n",
    "    return data\n",
    "\n",
    "# Generate 30 sample ad impressions records\n",
    "ad_impressions_data = generate_ad_impressions_data(30)\n",
    "\n",
    "# Save the data to a JSON file\n",
    "with open('ad_impressions.json', 'w') as json_file:\n",
    "    json.dump(ad_impressions_data, json_file, indent=4)"
   ]
  },
  {
   "cell_type": "code",
   "execution_count": 2,
   "id": "180c9a9c",
   "metadata": {
    "ExecuteTime": {
     "end_time": "2024-04-08T08:35:25.443735Z",
     "start_time": "2024-04-08T08:35:24.011895Z"
    }
   },
   "outputs": [],
   "source": [
    "import pandas as pd\n",
    "\n",
    "# Generate sample clicks/conversions data\n",
    "def generate_clicks_conversions_data(num_records):\n",
    "    data = []\n",
    "    for _ in range(num_records):\n",
    "        user_id = random.randint(1000, 2000)\n",
    "        campaign_id = random.randint(1, 10)\n",
    "        timestamp = datetime.now().strftime('%Y-%m-%d %H:%M:%S')\n",
    "        conversion_type = random.choice(['signup', 'purchase', 'download'])\n",
    "        click_conversion_data = {\n",
    "            'user_id': user_id,\n",
    "            'campaign_id': campaign_id,\n",
    "            'timestamp': timestamp,\n",
    "            'conversion_type': conversion_type\n",
    "        }\n",
    "        data.append(click_conversion_data)\n",
    "    return data\n",
    "\n",
    "# Generate 30 sample clicks/conversions records\n",
    "clicks_conversions_data = generate_clicks_conversions_data(30)\n",
    "\n",
    "# Convert the data to a DataFrame and save to CSV\n",
    "clicks_conversions_df = pd.DataFrame(clicks_conversions_data)\n",
    "clicks_conversions_df.to_csv('clicks_conversions.csv', index=False)"
   ]
  },
  {
   "cell_type": "code",
   "execution_count": 4,
   "id": "1a268ba4",
   "metadata": {
    "ExecuteTime": {
     "end_time": "2024-04-08T08:36:52.707515Z",
     "start_time": "2024-04-08T08:36:13.371594Z"
    }
   },
   "outputs": [
    {
     "name": "stdout",
     "output_type": "stream",
     "text": [
      "Collecting fastavro\n",
      "  Obtaining dependency information for fastavro from https://files.pythonhosted.org/packages/2b/7e/18d9b5c3e1621f58c1f4bee67ec1e4dd8ce8287e70c97262088a5673145c/fastavro-1.9.4-cp311-cp311-win_amd64.whl.metadata\n",
      "  Downloading fastavro-1.9.4-cp311-cp311-win_amd64.whl.metadata (5.7 kB)\n",
      "Downloading fastavro-1.9.4-cp311-cp311-win_amd64.whl (499 kB)\n",
      "   ---------------------------------------- 0.0/499.4 kB ? eta -:--:--\n",
      "   ---------------------------------------- 0.0/499.4 kB ? eta -:--:--\n",
      "   ---------------------------------------- 0.0/499.4 kB ? eta -:--:--\n",
      "   ---------------------------------------- 0.0/499.4 kB ? eta -:--:--\n",
      "   - -------------------------------------- 20.5/499.4 kB ? eta -:--:--\n",
      "   --- ----------------------------------- 41.0/499.4 kB 653.6 kB/s eta 0:00:01\n",
      "   --- ----------------------------------- 41.0/499.4 kB 653.6 kB/s eta 0:00:01\n",
      "   ------ -------------------------------- 81.9/499.4 kB 573.4 kB/s eta 0:00:01\n",
      "   ------ -------------------------------- 81.9/499.4 kB 573.4 kB/s eta 0:00:01\n",
      "   ---------------- --------------------- 215.0/499.4 kB 819.2 kB/s eta 0:00:01\n",
      "   ---------------- --------------------- 215.0/499.4 kB 819.2 kB/s eta 0:00:01\n",
      "   ------------------------ ------------- 327.7/499.4 kB 925.5 kB/s eta 0:00:01\n",
      "   ---------------------------- --------- 368.6/499.4 kB 998.3 kB/s eta 0:00:01\n",
      "   ---------------------------------------  491.5/499.4 kB 1.1 MB/s eta 0:00:01\n",
      "   ---------------------------------------- 499.4/499.4 kB 1.0 MB/s eta 0:00:00\n",
      "Installing collected packages: fastavro\n",
      "Successfully installed fastavro-1.9.4\n"
     ]
    }
   ],
   "source": [
    "!pip install fastavro\n",
    "# from fastavro import writer, parse_schema\n",
    "\n",
    "# # Define Avro schema for bid requests\n",
    "# schema = {\n",
    "#     'type': 'record',\n",
    "#     'name': 'BidRequest',\n",
    "#     'fields': [\n",
    "#         {'name': 'user_id', 'type': 'int'},\n",
    "#         {'name': 'auction_id', 'type': 'string'},\n",
    "#         {'name': 'timestamp', 'type': 'string'}\n",
    "#     ]\n",
    "# }\n",
    "\n",
    "# # Generate sample bid requests data\n",
    "# def generate_bid_requests_data(num_records):\n",
    "#     data = []\n",
    "#     for _ in range(num_records):\n",
    "#         user_id = random.randint(1000, 2000)\n",
    "#         auction_id = ''.join(random.choices('ABCDEFGHIJKLMNOPQRSTUVWXYZ', k=5))\n",
    "#         timestamp = datetime.now().strftime('%Y-%m-%d %H:%M:%S')\n",
    "#         bid_request_data = {\n",
    "#             'user_id': user_id,\n",
    "#             'auction_id': auction_id,\n",
    "#             'timestamp': timestamp\n",
    "#         }\n",
    "#         data.append(bid_request_data)\n",
    "#     return data\n",
    "\n",
    "# # Generate 30 sample bid requests records\n",
    "# bid_requests_data = generate_bid_requests_data(30)\n",
    "\n",
    "# # Save the data to an Avro file\n",
    "# with open('bid_requests.avro', 'wb') as avro_file:\n",
    "#     schema_parsed = parse_schema(schema)\n",
    "#     writer(avro_file, schema_parsed, bid_requests_data)"
   ]
  },
  {
   "cell_type": "code",
   "execution_count": null,
   "id": "618157aa",
   "metadata": {},
   "outputs": [],
   "source": []
  }
 ],
 "metadata": {
  "kernelspec": {
   "display_name": "Python 3 (ipykernel)",
   "language": "python",
   "name": "python3"
  },
  "language_info": {
   "codemirror_mode": {
    "name": "ipython",
    "version": 3
   },
   "file_extension": ".py",
   "mimetype": "text/x-python",
   "name": "python",
   "nbconvert_exporter": "python",
   "pygments_lexer": "ipython3",
   "version": "3.11.5"
  }
 },
 "nbformat": 4,
 "nbformat_minor": 5
}
